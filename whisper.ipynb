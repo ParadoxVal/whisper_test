{
 "cells": [
  {
   "cell_type": "code",
   "execution_count": null,
   "metadata": {},
   "outputs": [],
   "source": [
    "!pip install -U openai-whisper\n",
    "!pip install python-docx"
   ]
  },
  {
   "cell_type": "code",
   "execution_count": 7,
   "metadata": {},
   "outputs": [
    {
     "name": "stderr",
     "output_type": "stream",
     "text": [
      "Exception ignored in: <function FFMPEG_AudioWriter.__del__ at 0x00000272E7892160>\n",
      "Traceback (most recent call last):\n",
      "  File \"c:\\Users\\linoa\\AppData\\Local\\R-MINI~1\\envs\\whs\\lib\\site-packages\\moviepy\\audio\\io\\ffmpeg_audiowriter.py\", line 132, in __del__\n",
      "    self.close()\n",
      "  File \"c:\\Users\\linoa\\AppData\\Local\\R-MINI~1\\envs\\whs\\lib\\site-packages\\moviepy\\audio\\io\\ffmpeg_audiowriter.py\", line 121, in close\n",
      "    self.proc.stdin.close()\n",
      "OSError: [Errno 22] Invalid argument\n",
      "                                                                    \r"
     ]
    }
   ],
   "source": [
    "import whisper\n",
    "import os\n",
    "from glob import glob\n",
    "from docx import Document\n",
    "from datetime import timedelta"
   ]
  },
  {
   "cell_type": "code",
   "execution_count": 8,
   "metadata": {},
   "outputs": [
    {
     "data": {
      "text/plain": [
       "['tiny.en',\n",
       " 'tiny',\n",
       " 'base.en',\n",
       " 'base',\n",
       " 'small.en',\n",
       " 'small',\n",
       " 'medium.en',\n",
       " 'medium',\n",
       " 'large-v1',\n",
       " 'large-v2',\n",
       " 'large']"
      ]
     },
     "execution_count": 8,
     "metadata": {},
     "output_type": "execute_result"
    }
   ],
   "source": [
    "whisper.available_models()"
   ]
  },
  {
   "cell_type": "code",
   "execution_count": 9,
   "metadata": {},
   "outputs": [],
   "source": [
    "model = whisper.load_model(\"large-v2\")"
   ]
  },
  {
   "cell_type": "code",
   "execution_count": 10,
   "metadata": {},
   "outputs": [],
   "source": [
    "def parse_segments(segments):\n",
    "    text = []\n",
    "    for segment in segments:\n",
    "        text.append(segment['text'].lstrip())\n",
    "        text.append('\\n')\n",
    "\n",
    "    return ''.join(text)\n",
    "\n",
    "def save_srt(result, file_name):\n",
    "    outfile, _ = os.path.splitext(file_name)\n",
    "    segments = result['segments']\n",
    "    for segment in segments:\n",
    "        startTime = str(0)+str(timedelta(seconds=int(segment['start'])))+',000'\n",
    "        endTime = str(0)+str(timedelta(seconds=int(segment['end'])))+',000'\n",
    "        text = segment['text']\n",
    "        segmentId = segment['id']+1\n",
    "        segment = f\"{segmentId}\\n{startTime} --> {endTime}\\n{text[1:] if text[0] is ' ' else text}\\n\\n\"\n",
    "\n",
    "        srtFilename = os.path.join(\"videos\", f\"{outfile}.srt\")\n",
    "        with open(srtFilename, 'a', encoding='utf-8') as srtFile:\n",
    "            srtFile.write(segment)\n"
   ]
  },
  {
   "cell_type": "code",
   "execution_count": 11,
   "metadata": {},
   "outputs": [
    {
     "name": "stdout",
     "output_type": "stream",
     "text": [
      "videos\\ATC audio.mp3\n"
     ]
    }
   ],
   "source": [
    "for file_name in glob(r'videos/*.mp3'):\n",
    "    print(file_name)\n",
    "    outfile, _ = os.path.splitext(file_name)\n",
    "    result = model.transcribe(file_name)\n",
    "\n",
    "    document = Document()\n",
    "    document.add_paragraph(parse_segments(result['segments']))\n",
    "    document.save(outfile + '.docx')\n"
   ]
  },
  {
   "cell_type": "markdown",
   "metadata": {},
   "source": [
    "# Output SRT for subtitles\n"
   ]
  },
  {
   "cell_type": "code",
   "execution_count": 13,
   "metadata": {},
   "outputs": [
    {
     "ename": "FileNotFoundError",
     "evalue": "[Errno 2] No such file or directory: 'SrtFiles\\\\VIDEO_FILENAME.srt'",
     "output_type": "error",
     "traceback": [
      "\u001b[1;31m---------------------------------------------------------------------------\u001b[0m",
      "\u001b[1;31mFileNotFoundError\u001b[0m                         Traceback (most recent call last)",
      "\u001b[1;32mc:\\Users\\linoa\\Documents\\Code\\whisper_subtitles\\whisper.ipynb Cell 8\u001b[0m line \u001b[0;36m1\n\u001b[0;32m      <a href='vscode-notebook-cell:/c%3A/Users/linoa/Documents/Code/whisper_subtitles/whisper.ipynb#X30sZmlsZQ%3D%3D?line=6'>7</a>\u001b[0m segment \u001b[39m=\u001b[39m \u001b[39mf\u001b[39m\u001b[39m\"\u001b[39m\u001b[39m{\u001b[39;00msegmentId\u001b[39m}\u001b[39;00m\u001b[39m\\n\u001b[39;00m\u001b[39m{\u001b[39;00mstartTime\u001b[39m}\u001b[39;00m\u001b[39m --> \u001b[39m\u001b[39m{\u001b[39;00mendTime\u001b[39m}\u001b[39;00m\u001b[39m\\n\u001b[39;00m\u001b[39m{\u001b[39;00mtext[\u001b[39m1\u001b[39m:]\u001b[39m \u001b[39m\u001b[39mif\u001b[39;00m\u001b[39m \u001b[39mtext[\u001b[39m0\u001b[39m]\u001b[39m \u001b[39m\u001b[39mis\u001b[39;00m\u001b[39m \u001b[39m\u001b[39m'\u001b[39m\u001b[39m \u001b[39m\u001b[39m'\u001b[39m\u001b[39m \u001b[39m\u001b[39melse\u001b[39;00m\u001b[39m \u001b[39mtext\u001b[39m}\u001b[39;00m\u001b[39m\\n\u001b[39;00m\u001b[39m\\n\u001b[39;00m\u001b[39m\"\u001b[39m\n\u001b[0;32m      <a href='vscode-notebook-cell:/c%3A/Users/linoa/Documents/Code/whisper_subtitles/whisper.ipynb#X30sZmlsZQ%3D%3D?line=8'>9</a>\u001b[0m srtFilename \u001b[39m=\u001b[39m os\u001b[39m.\u001b[39mpath\u001b[39m.\u001b[39mjoin(\u001b[39m\"\u001b[39m\u001b[39mSrtFiles\u001b[39m\u001b[39m\"\u001b[39m, \u001b[39mf\u001b[39m\u001b[39m\"\u001b[39m\u001b[39mVIDEO_FILENAME.srt\u001b[39m\u001b[39m\"\u001b[39m)\n\u001b[1;32m---> <a href='vscode-notebook-cell:/c%3A/Users/linoa/Documents/Code/whisper_subtitles/whisper.ipynb#X30sZmlsZQ%3D%3D?line=9'>10</a>\u001b[0m \u001b[39mwith\u001b[39;00m \u001b[39mopen\u001b[39;49m(srtFilename, \u001b[39m'\u001b[39;49m\u001b[39ma\u001b[39;49m\u001b[39m'\u001b[39;49m, encoding\u001b[39m=\u001b[39;49m\u001b[39m'\u001b[39;49m\u001b[39mutf-8\u001b[39;49m\u001b[39m'\u001b[39;49m) \u001b[39mas\u001b[39;00m srtFile:\n\u001b[0;32m     <a href='vscode-notebook-cell:/c%3A/Users/linoa/Documents/Code/whisper_subtitles/whisper.ipynb#X30sZmlsZQ%3D%3D?line=10'>11</a>\u001b[0m     srtFile\u001b[39m.\u001b[39mwrite(segment)\n",
      "File \u001b[1;32mc:\\Users\\linoa\\AppData\\Local\\R-MINI~1\\envs\\whs\\lib\\site-packages\\IPython\\core\\interactiveshell.py:286\u001b[0m, in \u001b[0;36m_modified_open\u001b[1;34m(file, *args, **kwargs)\u001b[0m\n\u001b[0;32m    279\u001b[0m \u001b[39mif\u001b[39;00m file \u001b[39min\u001b[39;00m {\u001b[39m0\u001b[39m, \u001b[39m1\u001b[39m, \u001b[39m2\u001b[39m}:\n\u001b[0;32m    280\u001b[0m     \u001b[39mraise\u001b[39;00m \u001b[39mValueError\u001b[39;00m(\n\u001b[0;32m    281\u001b[0m         \u001b[39mf\u001b[39m\u001b[39m\"\u001b[39m\u001b[39mIPython won\u001b[39m\u001b[39m'\u001b[39m\u001b[39mt let you open fd=\u001b[39m\u001b[39m{\u001b[39;00mfile\u001b[39m}\u001b[39;00m\u001b[39m by default \u001b[39m\u001b[39m\"\u001b[39m\n\u001b[0;32m    282\u001b[0m         \u001b[39m\"\u001b[39m\u001b[39mas it is likely to crash IPython. If you know what you are doing, \u001b[39m\u001b[39m\"\u001b[39m\n\u001b[0;32m    283\u001b[0m         \u001b[39m\"\u001b[39m\u001b[39myou can use builtins\u001b[39m\u001b[39m'\u001b[39m\u001b[39m open.\u001b[39m\u001b[39m\"\u001b[39m\n\u001b[0;32m    284\u001b[0m     )\n\u001b[1;32m--> 286\u001b[0m \u001b[39mreturn\u001b[39;00m io_open(file, \u001b[39m*\u001b[39margs, \u001b[39m*\u001b[39m\u001b[39m*\u001b[39mkwargs)\n",
      "\u001b[1;31mFileNotFoundError\u001b[0m: [Errno 2] No such file or directory: 'SrtFiles\\\\VIDEO_FILENAME.srt'"
     ]
    }
   ],
   "source": [
    "\n",
    "\n"
   ]
  },
  {
   "cell_type": "markdown",
   "metadata": {},
   "source": [
    "# MP4 to MP3"
   ]
  },
  {
   "cell_type": "code",
   "execution_count": 4,
   "metadata": {},
   "outputs": [
    {
     "name": "stdout",
     "output_type": "stream",
     "text": [
      "Requirement already satisfied: moviepy in c:\\users\\linoa\\appdata\\local\\r-miniconda\\envs\\whs\\lib\\site-packages (1.0.3)\n",
      "Requirement already satisfied: decorator<5.0,>=4.0.2 in c:\\users\\linoa\\appdata\\local\\r-miniconda\\envs\\whs\\lib\\site-packages (from moviepy) (4.4.2)\n",
      "Requirement already satisfied: tqdm<5.0,>=4.11.2 in c:\\users\\linoa\\appdata\\local\\r-miniconda\\envs\\whs\\lib\\site-packages (from moviepy) (4.66.1)\n",
      "Requirement already satisfied: requests<3.0,>=2.8.1 in c:\\users\\linoa\\appdata\\local\\r-miniconda\\envs\\whs\\lib\\site-packages (from moviepy) (2.31.0)\n",
      "Requirement already satisfied: proglog<=1.0.0 in c:\\users\\linoa\\appdata\\local\\r-miniconda\\envs\\whs\\lib\\site-packages (from moviepy) (0.1.10)\n",
      "Requirement already satisfied: numpy>=1.17.3 in c:\\users\\linoa\\appdata\\local\\r-miniconda\\envs\\whs\\lib\\site-packages (from moviepy) (1.25.2)\n",
      "Requirement already satisfied: imageio<3.0,>=2.5 in c:\\users\\linoa\\appdata\\local\\r-miniconda\\envs\\whs\\lib\\site-packages (from moviepy) (2.31.3)\n",
      "Requirement already satisfied: imageio-ffmpeg>=0.2.0 in c:\\users\\linoa\\appdata\\local\\r-miniconda\\envs\\whs\\lib\\site-packages (from moviepy) (0.4.9)\n",
      "Requirement already satisfied: pillow>=8.3.2 in c:\\users\\linoa\\appdata\\local\\r-miniconda\\envs\\whs\\lib\\site-packages (from imageio<3.0,>=2.5->moviepy) (10.0.1)\n",
      "Requirement already satisfied: setuptools in c:\\users\\linoa\\appdata\\local\\r-miniconda\\envs\\whs\\lib\\site-packages (from imageio-ffmpeg>=0.2.0->moviepy) (68.0.0)\n",
      "Requirement already satisfied: charset-normalizer<4,>=2 in c:\\users\\linoa\\appdata\\local\\r-miniconda\\envs\\whs\\lib\\site-packages (from requests<3.0,>=2.8.1->moviepy) (3.2.0)\n",
      "Requirement already satisfied: idna<4,>=2.5 in c:\\users\\linoa\\appdata\\local\\r-miniconda\\envs\\whs\\lib\\site-packages (from requests<3.0,>=2.8.1->moviepy) (3.4)\n",
      "Requirement already satisfied: urllib3<3,>=1.21.1 in c:\\users\\linoa\\appdata\\local\\r-miniconda\\envs\\whs\\lib\\site-packages (from requests<3.0,>=2.8.1->moviepy) (2.0.5)\n",
      "Requirement already satisfied: certifi>=2017.4.17 in c:\\users\\linoa\\appdata\\local\\r-miniconda\\envs\\whs\\lib\\site-packages (from requests<3.0,>=2.8.1->moviepy) (2023.7.22)\n",
      "Requirement already satisfied: colorama in c:\\users\\linoa\\appdata\\local\\r-miniconda\\envs\\whs\\lib\\site-packages (from tqdm<5.0,>=4.11.2->moviepy) (0.4.6)\n"
     ]
    }
   ],
   "source": [
    "!pip install moviepy"
   ]
  },
  {
   "cell_type": "code",
   "execution_count": 6,
   "metadata": {},
   "outputs": [
    {
     "name": "stderr",
     "output_type": "stream",
     "text": [
      "                                                                  \n",
      "chunk:   1%|          | 22/3634 [00:33<1:30:31,  1.50s/it, now=None]"
     ]
    },
    {
     "name": "stdout",
     "output_type": "stream",
     "text": [
      "MoviePy - Writing audio in c:\\Users\\linoa\\Documents\\Code\\whisper_subtitles\\./videos/ATC audio.mp3\n"
     ]
    },
    {
     "name": "stderr",
     "output_type": "stream",
     "text": [
      "\n",
      "\u001b[A\n",
      "\u001b[A\n",
      "\u001b[A\n",
      "\u001b[A\n",
      "\u001b[A\n",
      "\u001b[A\n",
      "\u001b[A\n",
      "\u001b[A\n",
      "\u001b[A\n",
      "\u001b[A\n",
      "\u001b[A\n",
      "\u001b[A\n",
      "\u001b[A\n",
      "\u001b[A\n",
      "\u001b[A\n",
      "\u001b[A\n",
      "\u001b[A\n",
      "\u001b[A\n",
      "                                                                    \n",
      "chunk:   1%|          | 22/3634 [00:34<1:35:19,  1.58s/it, now=None]"
     ]
    },
    {
     "name": "stdout",
     "output_type": "stream",
     "text": [
      "MoviePy - Done.\n"
     ]
    }
   ],
   "source": [
    "from moviepy.editor import *\n",
    "video = VideoFileClip('c:\\\\Users\\\\linoa\\\\Documents\\\\Code\\\\whisper_subtitles\\\\./videos/Pilot starts takeoff roll without clearance gets yelled at (ATC audio)  Happy Landings.mp4')\n",
    "video.audio.write_audiofile('c:\\\\Users\\\\linoa\\\\Documents\\\\Code\\\\whisper_subtitles\\\\./videos/ATC audio.mp3')"
   ]
  },
  {
   "attachments": {},
   "cell_type": "markdown",
   "metadata": {},
   "source": [
    "# Add subtitles to mp4"
   ]
  },
  {
   "cell_type": "code",
   "execution_count": 6,
   "metadata": {},
   "outputs": [
    {
     "ename": "ImportError",
     "evalue": "cannot import name 'TextClip' from 'moviepy.video.fx.all' (c:\\Users\\linoa\\AppData\\Local\\R-MINI~1\\envs\\whs\\lib\\site-packages\\moviepy\\video\\fx\\all\\__init__.py)",
     "output_type": "error",
     "traceback": [
      "\u001b[1;31m---------------------------------------------------------------------------\u001b[0m",
      "\u001b[1;31mImportError\u001b[0m                               Traceback (most recent call last)",
      "\u001b[1;32mc:\\Users\\linoa\\Documents\\Code\\whisper_subtitles\\whisper.ipynb Cell 11\u001b[0m line \u001b[0;36m2\n\u001b[0;32m      <a href='vscode-notebook-cell:/c%3A/Users/linoa/Documents/Code/whisper_subtitles/whisper.ipynb#X24sZmlsZQ%3D%3D?line=0'>1</a>\u001b[0m \u001b[39mfrom\u001b[39;00m \u001b[39mmoviepy\u001b[39;00m\u001b[39m.\u001b[39;00m\u001b[39meditor\u001b[39;00m \u001b[39mimport\u001b[39;00m VideoFileClip\n\u001b[1;32m----> <a href='vscode-notebook-cell:/c%3A/Users/linoa/Documents/Code/whisper_subtitles/whisper.ipynb#X24sZmlsZQ%3D%3D?line=1'>2</a>\u001b[0m \u001b[39mfrom\u001b[39;00m \u001b[39mmoviepy\u001b[39;00m\u001b[39m.\u001b[39;00m\u001b[39mvideo\u001b[39;00m\u001b[39m.\u001b[39;00m\u001b[39mfx\u001b[39;00m\u001b[39m.\u001b[39;00m\u001b[39mall\u001b[39;00m \u001b[39mimport\u001b[39;00m TextClip, CompositeVideoClip\n\u001b[0;32m      <a href='vscode-notebook-cell:/c%3A/Users/linoa/Documents/Code/whisper_subtitles/whisper.ipynb#X24sZmlsZQ%3D%3D?line=3'>4</a>\u001b[0m \u001b[39m# Load video\u001b[39;00m\n\u001b[0;32m      <a href='vscode-notebook-cell:/c%3A/Users/linoa/Documents/Code/whisper_subtitles/whisper.ipynb#X24sZmlsZQ%3D%3D?line=4'>5</a>\u001b[0m video \u001b[39m=\u001b[39m VideoFileClip(\u001b[39m\"\u001b[39m\u001b[39mvideos/A 10 Close Air Support.mp4\u001b[39m\u001b[39m\"\u001b[39m)\n",
      "\u001b[1;31mImportError\u001b[0m: cannot import name 'TextClip' from 'moviepy.video.fx.all' (c:\\Users\\linoa\\AppData\\Local\\R-MINI~1\\envs\\whs\\lib\\site-packages\\moviepy\\video\\fx\\all\\__init__.py)"
     ]
    }
   ],
   "source": [
    "\n",
    "\n",
    "from moviepy.editor import VideoFileClip\n",
    "from moviepy.video.fx.all import TextClip, CompositeVideoClip\n",
    "\n",
    "# Load video\n",
    "video = VideoFileClip(\"videos/A 10 Close Air Support.mp4\")\n",
    "\n",
    "# Create a TextClip (subtitle)\n",
    "subtitle = TextClip(\"Your subtitle here\", fontsize=24, color='white')\n",
    "\n",
    "# Position the subtitle at the bottom and for a duration of 10 seconds\n",
    "subtitle = subtitle.set_position(('center', 'bottom')).set_duration(10)\n",
    "\n",
    "# Overlay subtitle on video\n",
    "final_video = CompositeVideoClip([video, subtitle])\n",
    "\n",
    "# Write to a file\n",
    "final_video.write_videofile(\"output_video.mp4\")"
   ]
  },
  {
   "cell_type": "code",
   "execution_count": 17,
   "metadata": {},
   "outputs": [
    {
     "ename": "OSError",
     "evalue": "MoviePy Error: creation of None failed because of the following error:\n\n[WinError 2] The system cannot find the file specified.\n\n.This error can be due to the fact that ImageMagick is not installed on your computer, or (for Windows users) that you didn't specify the path to the ImageMagick binary in file conf.py, or that the path you specified is incorrect",
     "output_type": "error",
     "traceback": [
      "\u001b[1;31m---------------------------------------------------------------------------\u001b[0m",
      "\u001b[1;31mFileNotFoundError\u001b[0m                         Traceback (most recent call last)",
      "File \u001b[1;32mc:\\Users\\linoa\\AppData\\Local\\R-MINI~1\\envs\\whs\\lib\\site-packages\\moviepy\\video\\VideoClip.py:1137\u001b[0m, in \u001b[0;36mTextClip.__init__\u001b[1;34m(self, txt, filename, size, color, bg_color, fontsize, font, stroke_color, stroke_width, method, kerning, align, interline, tempfilename, temptxt, transparent, remove_temp, print_cmd)\u001b[0m\n\u001b[0;32m   1136\u001b[0m \u001b[39mtry\u001b[39;00m:\n\u001b[1;32m-> 1137\u001b[0m     subprocess_call(cmd, logger\u001b[39m=\u001b[39;49m\u001b[39mNone\u001b[39;49;00m)\n\u001b[0;32m   1138\u001b[0m \u001b[39mexcept\u001b[39;00m (\u001b[39mIOError\u001b[39;00m, \u001b[39mOSError\u001b[39;00m) \u001b[39mas\u001b[39;00m err:\n",
      "File \u001b[1;32mc:\\Users\\linoa\\AppData\\Local\\R-MINI~1\\envs\\whs\\lib\\site-packages\\moviepy\\tools.py:46\u001b[0m, in \u001b[0;36msubprocess_call\u001b[1;34m(cmd, logger, errorprint)\u001b[0m\n\u001b[0;32m     44\u001b[0m     popen_params[\u001b[39m\"\u001b[39m\u001b[39mcreationflags\u001b[39m\u001b[39m\"\u001b[39m] \u001b[39m=\u001b[39m \u001b[39m0x08000000\u001b[39m\n\u001b[1;32m---> 46\u001b[0m proc \u001b[39m=\u001b[39m sp\u001b[39m.\u001b[39mPopen(cmd, \u001b[39m*\u001b[39m\u001b[39m*\u001b[39mpopen_params)\n\u001b[0;32m     48\u001b[0m out, err \u001b[39m=\u001b[39m proc\u001b[39m.\u001b[39mcommunicate() \u001b[39m# proc.wait()\u001b[39;00m\n",
      "File \u001b[1;32mc:\\Users\\linoa\\AppData\\Local\\R-MINI~1\\envs\\whs\\lib\\subprocess.py:951\u001b[0m, in \u001b[0;36mPopen.__init__\u001b[1;34m(self, args, bufsize, executable, stdin, stdout, stderr, preexec_fn, close_fds, shell, cwd, env, universal_newlines, startupinfo, creationflags, restore_signals, start_new_session, pass_fds, user, group, extra_groups, encoding, errors, text, umask)\u001b[0m\n\u001b[0;32m    948\u001b[0m             \u001b[39mself\u001b[39m\u001b[39m.\u001b[39mstderr \u001b[39m=\u001b[39m io\u001b[39m.\u001b[39mTextIOWrapper(\u001b[39mself\u001b[39m\u001b[39m.\u001b[39mstderr,\n\u001b[0;32m    949\u001b[0m                     encoding\u001b[39m=\u001b[39mencoding, errors\u001b[39m=\u001b[39merrors)\n\u001b[1;32m--> 951\u001b[0m     \u001b[39mself\u001b[39;49m\u001b[39m.\u001b[39;49m_execute_child(args, executable, preexec_fn, close_fds,\n\u001b[0;32m    952\u001b[0m                         pass_fds, cwd, env,\n\u001b[0;32m    953\u001b[0m                         startupinfo, creationflags, shell,\n\u001b[0;32m    954\u001b[0m                         p2cread, p2cwrite,\n\u001b[0;32m    955\u001b[0m                         c2pread, c2pwrite,\n\u001b[0;32m    956\u001b[0m                         errread, errwrite,\n\u001b[0;32m    957\u001b[0m                         restore_signals,\n\u001b[0;32m    958\u001b[0m                         gid, gids, uid, umask,\n\u001b[0;32m    959\u001b[0m                         start_new_session)\n\u001b[0;32m    960\u001b[0m \u001b[39mexcept\u001b[39;00m:\n\u001b[0;32m    961\u001b[0m     \u001b[39m# Cleanup if the child failed starting.\u001b[39;00m\n",
      "File \u001b[1;32mc:\\Users\\linoa\\AppData\\Local\\R-MINI~1\\envs\\whs\\lib\\subprocess.py:1436\u001b[0m, in \u001b[0;36mPopen._execute_child\u001b[1;34m(self, args, executable, preexec_fn, close_fds, pass_fds, cwd, env, startupinfo, creationflags, shell, p2cread, p2cwrite, c2pread, c2pwrite, errread, errwrite, unused_restore_signals, unused_gid, unused_gids, unused_uid, unused_umask, unused_start_new_session)\u001b[0m\n\u001b[0;32m   1435\u001b[0m \u001b[39mtry\u001b[39;00m:\n\u001b[1;32m-> 1436\u001b[0m     hp, ht, pid, tid \u001b[39m=\u001b[39m _winapi\u001b[39m.\u001b[39;49mCreateProcess(executable, args,\n\u001b[0;32m   1437\u001b[0m                              \u001b[39m# no special security\u001b[39;49;00m\n\u001b[0;32m   1438\u001b[0m                              \u001b[39mNone\u001b[39;49;00m, \u001b[39mNone\u001b[39;49;00m,\n\u001b[0;32m   1439\u001b[0m                              \u001b[39mint\u001b[39;49m(\u001b[39mnot\u001b[39;49;00m close_fds),\n\u001b[0;32m   1440\u001b[0m                              creationflags,\n\u001b[0;32m   1441\u001b[0m                              env,\n\u001b[0;32m   1442\u001b[0m                              cwd,\n\u001b[0;32m   1443\u001b[0m                              startupinfo)\n\u001b[0;32m   1444\u001b[0m \u001b[39mfinally\u001b[39;00m:\n\u001b[0;32m   1445\u001b[0m     \u001b[39m# Child is launched. Close the parent's copy of those pipe\u001b[39;00m\n\u001b[0;32m   1446\u001b[0m     \u001b[39m# handles that only the child should have open.  You need\u001b[39;00m\n\u001b[1;32m   (...)\u001b[0m\n\u001b[0;32m   1449\u001b[0m     \u001b[39m# pipe will not close when the child process exits and the\u001b[39;00m\n\u001b[0;32m   1450\u001b[0m     \u001b[39m# ReadFile will hang.\u001b[39;00m\n",
      "\u001b[1;31mFileNotFoundError\u001b[0m: [WinError 2] The system cannot find the file specified",
      "\nDuring handling of the above exception, another exception occurred:\n",
      "\u001b[1;31mOSError\u001b[0m                                   Traceback (most recent call last)",
      "\u001b[1;32mc:\\Users\\linoa\\Documents\\Code\\whisper_subtitles\\whisper.ipynb Cell 11\u001b[0m line \u001b[0;36m1\n\u001b[0;32m     <a href='vscode-notebook-cell:/c%3A/Users/linoa/Documents/Code/whisper_subtitles/whisper.ipynb#X15sZmlsZQ%3D%3D?line=12'>13</a>\u001b[0m subtitle \u001b[39m=\u001b[39m text[\u001b[39m'\u001b[39m\u001b[39mtext\u001b[39m\u001b[39m'\u001b[39m]\n\u001b[0;32m     <a href='vscode-notebook-cell:/c%3A/Users/linoa/Documents/Code/whisper_subtitles/whisper.ipynb#X15sZmlsZQ%3D%3D?line=13'>14</a>\u001b[0m subtitle \u001b[39m=\u001b[39m \u001b[39m\"\u001b[39m\u001b[39m\\n\u001b[39;00m\u001b[39m\"\u001b[39m\u001b[39m.\u001b[39mjoin(textwrap\u001b[39m.\u001b[39mwrap(subtitle, \u001b[39m50\u001b[39m))\n\u001b[1;32m---> <a href='vscode-notebook-cell:/c%3A/Users/linoa/Documents/Code/whisper_subtitles/whisper.ipynb#X15sZmlsZQ%3D%3D?line=14'>15</a>\u001b[0m txt_clip \u001b[39m=\u001b[39m TextClip(subtitle,fontsize \u001b[39m=\u001b[39;49m \u001b[39m12\u001b[39;49m,  font\u001b[39m=\u001b[39;49m\u001b[39m\"\u001b[39;49m\u001b[39mAmiri-Bold\u001b[39;49m\u001b[39m\"\u001b[39;49m, kerning\u001b[39m=\u001b[39;49m\u001b[39m1\u001b[39;49m, bg_color \u001b[39m=\u001b[39;49m \u001b[39m'\u001b[39;49m\u001b[39mblack\u001b[39;49m\u001b[39m'\u001b[39;49m, color\u001b[39m=\u001b[39;49m\u001b[39m'\u001b[39;49m\u001b[39mwhite\u001b[39;49m\u001b[39m'\u001b[39;49m)\n\u001b[0;32m     <a href='vscode-notebook-cell:/c%3A/Users/linoa/Documents/Code/whisper_subtitles/whisper.ipynb#X15sZmlsZQ%3D%3D?line=15'>16</a>\u001b[0m txt_clip \u001b[39m=\u001b[39m txt_clip\u001b[39m.\u001b[39mset_start(text[\u001b[39m'\u001b[39m\u001b[39mstart\u001b[39m\u001b[39m'\u001b[39m])\n\u001b[0;32m     <a href='vscode-notebook-cell:/c%3A/Users/linoa/Documents/Code/whisper_subtitles/whisper.ipynb#X15sZmlsZQ%3D%3D?line=16'>17</a>\u001b[0m txt_clip \u001b[39m=\u001b[39m txt_clip\u001b[39m.\u001b[39mset_position((\u001b[39m0.2\u001b[39m,\u001b[39m0.8\u001b[39m), relative\u001b[39m=\u001b[39m\u001b[39mTrue\u001b[39;00m)\u001b[39m.\u001b[39mset_duration(text[\u001b[39m'\u001b[39m\u001b[39mend\u001b[39m\u001b[39m'\u001b[39m]\u001b[39m-\u001b[39mtext[\u001b[39m'\u001b[39m\u001b[39mstart\u001b[39m\u001b[39m'\u001b[39m])\n",
      "File \u001b[1;32mc:\\Users\\linoa\\AppData\\Local\\R-MINI~1\\envs\\whs\\lib\\site-packages\\moviepy\\video\\VideoClip.py:1146\u001b[0m, in \u001b[0;36mTextClip.__init__\u001b[1;34m(self, txt, filename, size, color, bg_color, fontsize, font, stroke_color, stroke_width, method, kerning, align, interline, tempfilename, temptxt, transparent, remove_temp, print_cmd)\u001b[0m\n\u001b[0;32m   1138\u001b[0m \u001b[39mexcept\u001b[39;00m (\u001b[39mIOError\u001b[39;00m, \u001b[39mOSError\u001b[39;00m) \u001b[39mas\u001b[39;00m err:\n\u001b[0;32m   1139\u001b[0m     error \u001b[39m=\u001b[39m (\u001b[39m\"\u001b[39m\u001b[39mMoviePy Error: creation of \u001b[39m\u001b[39m%s\u001b[39;00m\u001b[39m failed because of the \u001b[39m\u001b[39m\"\u001b[39m\n\u001b[0;32m   1140\u001b[0m              \u001b[39m\"\u001b[39m\u001b[39mfollowing error:\u001b[39m\u001b[39m\\n\u001b[39;00m\u001b[39m\\n\u001b[39;00m\u001b[39m%s\u001b[39;00m\u001b[39m.\u001b[39m\u001b[39m\\n\u001b[39;00m\u001b[39m\\n\u001b[39;00m\u001b[39m.\u001b[39m\u001b[39m\"\u001b[39m \u001b[39m%\u001b[39m (filename, \u001b[39mstr\u001b[39m(err))\n\u001b[0;32m   1141\u001b[0m              \u001b[39m+\u001b[39m (\u001b[39m\"\u001b[39m\u001b[39mThis error can be due to the fact that ImageMagick \u001b[39m\u001b[39m\"\u001b[39m\n\u001b[1;32m   (...)\u001b[0m\n\u001b[0;32m   1144\u001b[0m                 \u001b[39m\"\u001b[39m\u001b[39mImageMagick binary in file conf.py, or that the path \u001b[39m\u001b[39m\"\u001b[39m\n\u001b[0;32m   1145\u001b[0m                 \u001b[39m\"\u001b[39m\u001b[39myou specified is incorrect\u001b[39m\u001b[39m\"\u001b[39m))\n\u001b[1;32m-> 1146\u001b[0m     \u001b[39mraise\u001b[39;00m \u001b[39mIOError\u001b[39;00m(error)\n\u001b[0;32m   1148\u001b[0m ImageClip\u001b[39m.\u001b[39m\u001b[39m__init__\u001b[39m(\u001b[39mself\u001b[39m, tempfilename, transparent\u001b[39m=\u001b[39mtransparent)\n\u001b[0;32m   1149\u001b[0m \u001b[39mself\u001b[39m\u001b[39m.\u001b[39mtxt \u001b[39m=\u001b[39m txt\n",
      "\u001b[1;31mOSError\u001b[0m: MoviePy Error: creation of None failed because of the following error:\n\n[WinError 2] The system cannot find the file specified.\n\n.This error can be due to the fact that ImageMagick is not installed on your computer, or (for Windows users) that you didn't specify the path to the ImageMagick binary in file conf.py, or that the path you specified is incorrect"
     ]
    }
   ],
   "source": [
    "from moviepy.editor import VideoFileClip, TextClip, CompositeVideoClip\n",
    "import textwrap\n",
    "\n",
    "# Load the video\n",
    "video = VideoFileClip(\"videos/A 10 Close Air Support.mp4\")\n",
    "\n",
    "# Load the transcript file\n",
    "transcript = result['segments']\n",
    "\n",
    "# Create a subtitles clip\n",
    "txt_clips = []\n",
    "for text in transcript:\n",
    "  subtitle = text['text']\n",
    "  subtitle = \"\\n\".join(textwrap.wrap(subtitle, 50))\n",
    "  txt_clip = TextClip(subtitle,fontsize = 12,  font=\"Amiri-Bold\", kerning=1, bg_color = 'black', color='white')\n",
    "  txt_clip = txt_clip.set_start(text['start'])\n",
    "  txt_clip = txt_clip.set_position((0.2,0.8), relative=True).set_duration(text['end']-text['start'])\n",
    "  txt_clips.append(txt_clip)  \n",
    "  \n",
    "\n",
    "# concatenate the video and subtitles\n",
    "final_video = CompositeVideoClip([video]+txt_clips)\n",
    "\n",
    "# Save the final video\n",
    "final_video.write_videofile(\"videos/output.mp4\")"
   ]
  },
  {
   "attachments": {},
   "cell_type": "markdown",
   "metadata": {},
   "source": [
    "# Download videos from Youtube for testing "
   ]
  },
  {
   "cell_type": "code",
   "execution_count": 15,
   "metadata": {},
   "outputs": [
    {
     "name": "stdout",
     "output_type": "stream",
     "text": [
      "Collecting pytube\n",
      "  Downloading pytube-15.0.0-py3-none-any.whl (57 kB)\n",
      "     ---------------------------------------- 0.0/57.6 kB ? eta -:--:--\n",
      "     -------------------- ----------------- 30.7/57.6 kB 435.7 kB/s eta 0:00:01\n",
      "     -------------------------------------- 57.6/57.6 kB 763.8 kB/s eta 0:00:00\n",
      "Installing collected packages: pytube\n",
      "Successfully installed pytube-15.0.0\n"
     ]
    }
   ],
   "source": [
    "!pip install pytube"
   ]
  },
  {
   "cell_type": "code",
   "execution_count": 2,
   "metadata": {},
   "outputs": [
    {
     "data": {
      "text/plain": [
       "'c:\\\\Users\\\\linoa\\\\Documents\\\\Code\\\\whisper_subtitles\\\\./videos/Pilot starts takeoff roll without clearance gets yelled at (ATC audio)  Happy Landings.mp4'"
      ]
     },
     "execution_count": 2,
     "metadata": {},
     "output_type": "execute_result"
    }
   ],
   "source": [
    "from pytube import YouTube\n",
    "\n",
    "link = \"https://www.youtube.com/watch?v=jdBzyAURWEI\"\n",
    "yt = YouTube(link)\n",
    "\n",
    "# Download the video with the highest resolution and file type (usually mp4)\n",
    "video = yt.streams.filter(progressive=True, file_extension='mp4').order_by('resolution').desc().first()\n",
    "video.download('./videos/')"
   ]
  },
  {
   "cell_type": "code",
   "execution_count": null,
   "metadata": {},
   "outputs": [],
   "source": []
  }
 ],
 "metadata": {
  "kernelspec": {
   "display_name": "Python 3.9.13 ('whs')",
   "language": "python",
   "name": "python3"
  },
  "language_info": {
   "codemirror_mode": {
    "name": "ipython",
    "version": 3
   },
   "file_extension": ".py",
   "mimetype": "text/x-python",
   "name": "python",
   "nbconvert_exporter": "python",
   "pygments_lexer": "ipython3",
   "version": "3.9.18"
  },
  "orig_nbformat": 4,
  "vscode": {
   "interpreter": {
    "hash": "0eff175efddaf31c25e2ed77463425fca0e385660587504c58361a0a669e8d78"
   }
  }
 },
 "nbformat": 4,
 "nbformat_minor": 2
}
