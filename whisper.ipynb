{
 "cells": [
  {
   "cell_type": "code",
   "execution_count": null,
   "metadata": {},
   "outputs": [],
   "source": [
    "!pip install -U openai-whisper\n",
    "!pip install python-docx"
   ]
  },
  {
   "cell_type": "code",
   "execution_count": 1,
   "metadata": {},
   "outputs": [
    {
     "name": "stderr",
     "output_type": "stream",
     "text": [
      "c:\\Users\\linoa\\AppData\\Local\\R-MINI~1\\envs\\whs\\lib\\site-packages\\tqdm\\auto.py:21: TqdmWarning: IProgress not found. Please update jupyter and ipywidgets. See https://ipywidgets.readthedocs.io/en/stable/user_install.html\n",
      "  from .autonotebook import tqdm as notebook_tqdm\n"
     ]
    }
   ],
   "source": [
    "import whisper\n",
    "import os\n",
    "from glob import glob\n",
    "from docx import Document\n",
    "from datetime import timedelta"
   ]
  },
  {
   "cell_type": "code",
   "execution_count": 9,
   "metadata": {},
   "outputs": [
    {
     "data": {
      "text/plain": [
       "['tiny.en',\n",
       " 'tiny',\n",
       " 'base.en',\n",
       " 'base',\n",
       " 'small.en',\n",
       " 'small',\n",
       " 'medium.en',\n",
       " 'medium',\n",
       " 'large-v1',\n",
       " 'large-v2',\n",
       " 'large']"
      ]
     },
     "execution_count": 9,
     "metadata": {},
     "output_type": "execute_result"
    }
   ],
   "source": [
    "whisper.available_models()"
   ]
  },
  {
   "cell_type": "code",
   "execution_count": 2,
   "metadata": {},
   "outputs": [],
   "source": [
    "model = whisper.load_model(\"large-v2\")"
   ]
  },
  {
   "cell_type": "code",
   "execution_count": 4,
   "metadata": {},
   "outputs": [],
   "source": [
    "def parse_segments(segments):\n",
    "    text = []\n",
    "    for segment in segments:\n",
    "        text.append(segment['text'].lstrip())\n",
    "        text.append('\\n')\n",
    "\n",
    "    return ''.join(text)\n",
    "\n",
    "def save_srt(result, file_name):\n",
    "    outfile, _ = os.path.splitext(file_name)\n",
    "    segments = result['segments']\n",
    "    for segment in segments:\n",
    "        startTime = str(0)+str(timedelta(seconds=int(segment['start'])))+',000'\n",
    "        endTime = str(0)+str(timedelta(seconds=int(segment['end'])))+',000'\n",
    "        text = segment['text']\n",
    "        segmentId = segment['id']+1\n",
    "        segment = f\"{segmentId}\\n{startTime} --> {endTime}\\n{text[1:] if text[0] == ' ' else text}\\n\\n\"\n",
    "\n",
    "        srtFilename = os.path.join(f\"{outfile}.srt\")\n",
    "        with open(srtFilename, 'a', encoding='utf-8') as srtFile:\n",
    "            srtFile.write(segment)\n"
   ]
  },
  {
   "cell_type": "code",
   "execution_count": 5,
   "metadata": {},
   "outputs": [
    {
     "name": "stdout",
     "output_type": "stream",
     "text": [
      "videos\\A 10 Close Air Support.mp3\n",
      "videos\\ATC_audio_original_soft_static.mp3\n"
     ]
    }
   ],
   "source": [
    "for file_name in glob(r'videos/*.mp3'):\n",
    "    print(file_name)\n",
    "    outfile, _ = os.path.splitext(file_name)\n",
    "    result = model.transcribe(file_name)\n",
    "    save_srt(result, file_name)\n",
    "    \n",
    "    document = Document()\n",
    "    document.add_paragraph(parse_segments(result['segments']))\n",
    "    document.save(outfile + '.docx')\n"
   ]
  },
  {
   "cell_type": "markdown",
   "metadata": {},
   "source": [
    "# MP4 to MP3"
   ]
  },
  {
   "cell_type": "code",
   "execution_count": null,
   "metadata": {},
   "outputs": [],
   "source": [
    "!pip install moviepy"
   ]
  },
  {
   "cell_type": "code",
   "execution_count": 7,
   "metadata": {},
   "outputs": [
    {
     "name": "stdout",
     "output_type": "stream",
     "text": [
      "MoviePy - Writing audio in c:\\Users\\linoa\\Documents\\Code\\whisper_subtitles\\./videos/ATC_audio.mp3\n"
     ]
    },
    {
     "name": "stderr",
     "output_type": "stream",
     "text": [
      "                                                                      "
     ]
    },
    {
     "name": "stdout",
     "output_type": "stream",
     "text": [
      "MoviePy - Done.\n"
     ]
    },
    {
     "name": "stderr",
     "output_type": "stream",
     "text": [
      "\r"
     ]
    }
   ],
   "source": [
    "from moviepy.editor import *\n",
    "video = VideoFileClip('c:\\\\Users\\\\linoa\\\\Documents\\\\Code\\\\whisper_subtitles\\\\./videos/ATC_audio.mp4')\n",
    "video.audio.write_audiofile('c:\\\\Users\\\\linoa\\\\Documents\\\\Code\\\\whisper_subtitles\\\\./videos/ATC_audio.mp3')"
   ]
  },
  {
   "attachments": {},
   "cell_type": "markdown",
   "metadata": {},
   "source": [
    "# Add subtitles to mp4"
   ]
  },
  {
   "cell_type": "code",
   "execution_count": null,
   "metadata": {},
   "outputs": [],
   "source": [
    "\n",
    "\n",
    "from moviepy.editor import VideoFileClip\n",
    "from moviepy.video.fx.all import TextClip, CompositeVideoClip\n",
    "\n",
    "# Load video\n",
    "video = VideoFileClip(\"videos/A 10 Close Air Support.mp4\")\n",
    "\n",
    "# Create a TextClip (subtitle)\n",
    "subtitle = TextClip(\"Your subtitle here\", fontsize=24, color='white')\n",
    "\n",
    "# Position the subtitle at the bottom and for a duration of 10 seconds\n",
    "subtitle = subtitle.set_position(('center', 'bottom')).set_duration(10)\n",
    "\n",
    "# Overlay subtitle on video\n",
    "final_video = CompositeVideoClip([video, subtitle])\n",
    "\n",
    "# Write to a file\n",
    "final_video.write_videofile(\"output_video.mp4\")"
   ]
  },
  {
   "cell_type": "code",
   "execution_count": null,
   "metadata": {},
   "outputs": [],
   "source": [
    "from moviepy.editor import VideoFileClip, TextClip, CompositeVideoClip\n",
    "import textwrap\n",
    "\n",
    "# Load the video\n",
    "video = VideoFileClip(\"videos/A 10 Close Air Support.mp4\")\n",
    "\n",
    "# Load the transcript file\n",
    "transcript = result['segments']\n",
    "\n",
    "# Create a subtitles clip\n",
    "txt_clips = []\n",
    "for text in transcript:\n",
    "  subtitle = text['text']\n",
    "  subtitle = \"\\n\".join(textwrap.wrap(subtitle, 50))\n",
    "  txt_clip = TextClip(subtitle,fontsize = 12,  font=\"Amiri-Bold\", kerning=1, bg_color = 'black', color='white')\n",
    "  txt_clip = txt_clip.set_start(text['start'])\n",
    "  txt_clip = txt_clip.set_position((0.2,0.8), relative=True).set_duration(text['end']-text['start'])\n",
    "  txt_clips.append(txt_clip)  \n",
    "  \n",
    "\n",
    "# concatenate the video and subtitles\n",
    "final_video = CompositeVideoClip([video]+txt_clips)\n",
    "\n",
    "# Save the final video\n",
    "final_video.write_videofile(\"videos/output.mp4\")"
   ]
  },
  {
   "attachments": {},
   "cell_type": "markdown",
   "metadata": {},
   "source": [
    "# Download videos from Youtube for testing "
   ]
  },
  {
   "cell_type": "code",
   "execution_count": null,
   "metadata": {},
   "outputs": [],
   "source": [
    "!pip install pytube\n"
   ]
  },
  {
   "cell_type": "code",
   "execution_count": null,
   "metadata": {},
   "outputs": [],
   "source": [
    "from pytube import YouTube\n",
    "\n",
    "link = \"https://www.youtube.com/watch?v=jdBzyAURWEI\"\n",
    "yt = YouTube(link)\n",
    "\n",
    "# Download the video with the highest resolution and file type (usually mp4)\n",
    "video = yt.streams.filter(progressive=True, file_extension='mp4').order_by('resolution').desc().first()\n",
    "video.download('./videos/')"
   ]
  },
  {
   "cell_type": "code",
   "execution_count": null,
   "metadata": {},
   "outputs": [],
   "source": []
  }
 ],
 "metadata": {
  "kernelspec": {
   "display_name": "Python 3.9.13 ('whs')",
   "language": "python",
   "name": "python3"
  },
  "language_info": {
   "codemirror_mode": {
    "name": "ipython",
    "version": 3
   },
   "file_extension": ".py",
   "mimetype": "text/x-python",
   "name": "python",
   "nbconvert_exporter": "python",
   "pygments_lexer": "ipython3",
   "version": "3.9.18"
  },
  "orig_nbformat": 4,
  "vscode": {
   "interpreter": {
    "hash": "0eff175efddaf31c25e2ed77463425fca0e385660587504c58361a0a669e8d78"
   }
  }
 },
 "nbformat": 4,
 "nbformat_minor": 2
}
